{
 "cells": [
  {
   "cell_type": "code",
   "execution_count": 1,
   "metadata": {},
   "outputs": [],
   "source": [
    "import pandas as pd\n",
    "import matplotlib.pyplot as plt\n",
    "import seaborn as sns\n",
    "import numpy as np\n",
    "\n",
    "import sys\n",
    "import re\n",
    "import string\n",
    "import unicodedata\n",
    "\n",
    "# Load the new dataset\n",
    "file_path = 'BankDigital/dataset/Review_BANK_MOBILE_GOOGLE_PLAY_Update21092024_Clean.csv'\n",
    "df = pd.read_csv(file_path)\n",
    "\n"
   ]
  },
  {
   "cell_type": "code",
   "execution_count": 4,
   "metadata": {},
   "outputs": [
    {
     "data": {
      "text/plain": [
       "0    mengecewakan cs lambat kendala aplikasi buruk ...\n",
       "1    bagus mempermudah kelancaran transaksi sayang ...\n",
       "2    aplikasi ribet iming iming yg menggiurkan ga a...\n",
       "3    menawarkan paylater coba kali daftar paylater ...\n",
       "4    ulasan terbaru yah coba mengganti alamat email...\n",
       "Name: cleaned_content, dtype: object"
      ]
     },
     "execution_count": 4,
     "metadata": {},
     "output_type": "execute_result"
    }
   ],
   "source": [
    "df['cleaned_content'].head()"
   ]
  },
  {
   "cell_type": "code",
   "execution_count": 6,
   "metadata": {},
   "outputs": [],
   "source": [
    "# score to polarity\n",
    "def to_polarity(rating):\n",
    "  rating = int(rating)\n",
    "  if rating <= 2:\n",
    "    return 'negative'\n",
    "  elif rating == 3:\n",
    "    return 'neutral'\n",
    "  else: \n",
    "    return 'positive'\n",
    "\n",
    "# score to sentiment\n",
    "def to_sentiment(rating):\n",
    "  rating = int(rating)\n",
    "  if rating <= 2:\n",
    "    return 0 #negative\n",
    "  elif rating == 3:\n",
    "    return 1 #neutral\n",
    "  else: \n",
    "    return 2 #positive\n"
   ]
  },
  {
   "cell_type": "markdown",
   "metadata": {},
   "source": []
  },
  {
   "cell_type": "code",
   "execution_count": 7,
   "metadata": {},
   "outputs": [],
   "source": [
    "class_names = ['negative', 'neutral', 'positive']\n",
    "\n",
    "df['label'] = df.score.apply(to_sentiment)\n",
    "df['polarity'] = df.score.apply(to_polarity)"
   ]
  },
  {
   "cell_type": "code",
   "execution_count": 8,
   "metadata": {},
   "outputs": [
    {
     "data": {
      "text/plain": [
       "polarity\n",
       "positive    37194\n",
       "negative    35572\n",
       "neutral     27154\n",
       "Name: count, dtype: int64"
      ]
     },
     "execution_count": 8,
     "metadata": {},
     "output_type": "execute_result"
    }
   ],
   "source": [
    "df['polarity'].value_counts()"
   ]
  },
  {
   "cell_type": "code",
   "execution_count": 9,
   "metadata": {},
   "outputs": [
    {
     "data": {
      "text/plain": [
       "label\n",
       "2    37194\n",
       "0    35572\n",
       "1    27154\n",
       "Name: count, dtype: int64"
      ]
     },
     "execution_count": 9,
     "metadata": {},
     "output_type": "execute_result"
    }
   ],
   "source": [
    "df['label'].value_counts()"
   ]
  }
 ],
 "metadata": {
  "kernelspec": {
   "display_name": "Python 3",
   "language": "python",
   "name": "python3"
  },
  "language_info": {
   "codemirror_mode": {
    "name": "ipython",
    "version": 3
   },
   "file_extension": ".py",
   "mimetype": "text/x-python",
   "name": "python",
   "nbconvert_exporter": "python",
   "pygments_lexer": "ipython3",
   "version": "3.12.3"
  }
 },
 "nbformat": 4,
 "nbformat_minor": 2
}
