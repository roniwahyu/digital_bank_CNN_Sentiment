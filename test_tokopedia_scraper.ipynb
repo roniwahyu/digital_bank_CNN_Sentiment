{
 "cells": [
  {
   "cell_type": "code",
   "execution_count": 2,
   "metadata": {},
   "outputs": [
    {
     "name": "stdout",
     "output_type": "stream",
     "text": [
      "No products found.\n"
     ]
    }
   ],
   "source": [
    "import requests\n",
    "from bs4 import BeautifulSoup\n",
    "import pandas as pd\n",
    "\n",
    "# Define headers to mimic a browser request\n",
    "headers = {\n",
    "    \"User-Agent\": \"Mozilla/5.0 (Windows NT 10.0; Win64; x64) AppleWebKit/537.36 (KHTML, like Gecko) Chrome/86.0.4240.111 Safari/537.36\"\n",
    "}\n",
    "\n",
    "def fetch_tokopedia_results(query, max_pages=1):\n",
    "    base_url = \"https://www.tokopedia.com/search?st=product&q=\"\n",
    "    query_url = base_url + query.replace(' ', '%20')  # Encode query for URL\n",
    "\n",
    "    products = []\n",
    "\n",
    "    for page in range(1, max_pages + 1):\n",
    "        url = f\"{query_url}&page={page}\"\n",
    "        response = requests.get(url, headers=headers)\n",
    "        \n",
    "        if response.status_code != 200:\n",
    "            print(f\"Failed to retrieve data from page {page}\")\n",
    "            continue\n",
    "\n",
    "        soup = BeautifulSoup(response.text, 'html.parser')\n",
    "        \n",
    "        # Inspect and adapt the structure to scrape the right product information\n",
    "        # This is an example for demonstration, real selectors may differ\n",
    "        product_list = soup.find_all('div', class_='css-1sn1xa2')\n",
    "        \n",
    "        for product in product_list:\n",
    "            try:\n",
    "                # Extract product name\n",
    "                product_name = product.find('a', class_='css-1f4mp12').text.strip()\n",
    "                \n",
    "                # Extract price\n",
    "                product_price = product.find('div', class_='css-rhd610').text.strip()\n",
    "\n",
    "                # Extract product link\n",
    "                product_link = product.find('a', class_='css-1f4mp12')['href']\n",
    "                \n",
    "                products.append({\n",
    "                    'Product Name': product_name,\n",
    "                    'Price': product_price,\n",
    "                    'Link': product_link\n",
    "                })\n",
    "            except Exception as e:\n",
    "                # Skip any item that doesn't follow the structure\n",
    "                print(f\"Error extracting data: {e}\")\n",
    "                continue\n",
    "\n",
    "    return products\n",
    "\n",
    "def save_to_csv(products, filename='tokopedia_products.csv'):\n",
    "    df = pd.DataFrame(products)\n",
    "    df.to_csv(filename, index=False)\n",
    "    print(f\"Data saved to {filename}\")\n",
    "\n",
    "# Example usage\n",
    "if __name__ == \"__main__\":\n",
    "    query = input(\"Enter your search query: \")\n",
    "    max_pages = int(input(\"Enter the number of pages to scrape: \"))\n",
    "    \n",
    "    results = fetch_tokopedia_results(query, max_pages)\n",
    "    \n",
    "    if results:\n",
    "        save_to_csv(results)\n",
    "    else:\n",
    "        print(\"No products found.\")\n"
   ]
  }
 ],
 "metadata": {
  "kernelspec": {
   "display_name": "Python 3",
   "language": "python",
   "name": "python3"
  },
  "language_info": {
   "codemirror_mode": {
    "name": "ipython",
    "version": 3
   },
   "file_extension": ".py",
   "mimetype": "text/x-python",
   "name": "python",
   "nbconvert_exporter": "python",
   "pygments_lexer": "ipython3",
   "version": "3.12.3"
  }
 },
 "nbformat": 4,
 "nbformat_minor": 2
}
