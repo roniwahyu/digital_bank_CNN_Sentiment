{
 "cells": [
  {
   "cell_type": "code",
   "execution_count": 1,
   "metadata": {},
   "outputs": [],
   "source": [
    "import pandas as pd\n",
    "import matplotlib.pyplot as plt\n",
    "import seaborn as sns\n",
    "import numpy as np\n",
    "\n",
    "import sys\n",
    "import re\n",
    "import string\n",
    "import unicodedata\n",
    "\n",
    "# Load the new dataset\n",
    "file_path = 'BankDigital/dataset/Newest_REVIEW_BANK_MOBILE_GOOGLE_PLAY_Update21092024.csv'\n",
    "df = pd.read_csv(file_path)\n",
    "\n"
   ]
  },
  {
   "cell_type": "code",
   "execution_count": 2,
   "metadata": {},
   "outputs": [
    {
     "name": "stderr",
     "output_type": "stream",
     "text": [
      "[nltk_data] Downloading package punkt to\n",
      "[nltk_data]     C:\\Users\\LENOVO\\AppData\\Roaming\\nltk_data...\n",
      "[nltk_data]   Package punkt is already up-to-date!\n",
      "[nltk_data] Downloading package stopwords to\n",
      "[nltk_data]     C:\\Users\\LENOVO\\AppData\\Roaming\\nltk_data...\n",
      "[nltk_data]   Package stopwords is already up-to-date!\n",
      "[nltk_data] Downloading package words to\n",
      "[nltk_data]     C:\\Users\\LENOVO\\AppData\\Roaming\\nltk_data...\n",
      "[nltk_data]   Package words is already up-to-date!\n",
      "[nltk_data] Downloading package wordnet to\n",
      "[nltk_data]     C:\\Users\\LENOVO\\AppData\\Roaming\\nltk_data...\n",
      "[nltk_data]   Package wordnet is already up-to-date!\n"
     ]
    }
   ],
   "source": [
    "import nltk\n",
    "nltk.download('punkt')\n",
    "nltk.download('stopwords')\n",
    "nltk.download('words')\n",
    "nltk.download('wordnet')\n",
    "from nltk.tokenize import word_tokenize\n",
    "from textblob import TextBlob, Word\n",
    "from nltk.corpus import stopwords\n",
    "from nltk.stem.porter import PorterStemmer\n",
    "snowball = nltk.stem.SnowballStemmer('english')\n",
    "porter_stemmer = PorterStemmer()\n"
   ]
  },
  {
   "cell_type": "code",
   "execution_count": 3,
   "metadata": {},
   "outputs": [
    {
     "name": "stderr",
     "output_type": "stream",
     "text": [
      "<>:9: SyntaxWarning: invalid escape sequence '\\S'\n",
      "<>:9: SyntaxWarning: invalid escape sequence '\\S'\n",
      "C:\\Users\\LENOVO\\AppData\\Local\\Temp\\ipykernel_26932\\3944246372.py:9: SyntaxWarning: invalid escape sequence '\\S'\n",
      "  text = re.sub('\\S*@\\S*\\s?', ' ', text)                # Remove email\n"
     ]
    }
   ],
   "source": [
    "\n",
    "\n",
    "def text_preprocessing(text):\n",
    "  text = text.lower()                                   # Lowercase all sentences\n",
    "      #   text = text.strip()                                   # Remove whitespace\n",
    "  text = re.sub('[-+]?[0-9]+', ' ', text)               # Remove numbers \n",
    "  text = re.sub(r'https?://\\S+|www\\.\\S+', ' ', text)    # Remove URLs\n",
    "      #   text = re.sub(r\"pic.twitter.com\\S+\", ' ', text)       # Remove custom URLs for twitter\n",
    "      #   text = re.sub(r'\\@([\\w]+)',' ', text)                 # Remove Mention @\n",
    "      #   text = re.sub(r'\\#([\\w]+)',' ', text)                 # Remove #TAGAR\n",
    "  text = re.sub('\\S*@\\S*\\s?', ' ', text)                # Remove email\n",
    "  text = re.sub(r'[^\\w\\s]', ' ', text)                  # Remove punctuation\n",
    "      #   text = re.sub(r'\\b\\w{1,3}\\b','',text)                 #Remove n-chars,Remove less than 3 chars, minimum 4 character allowed \"\\b[a-zA-Z0-9]{3}\\b\"\n",
    "  text = re.sub(r'[!$%^&*@#()_+|~=`{}\\[\\]%\\-:\";\\'<>?,.\\/]', ' ', text)  # Tahap-5: simbol\n",
    "      #   text = re.sub(r'[0-9]+','', text)                     # Tahap-6: angka\n",
    "  text = re.sub(r'([a-zA-Z])\\1\\1','\\\\1', text)          # Tahap-7: koreksi duplikasi tiga karakter beruntun atau lebih (contoh. yukkk)\n",
    "  text = re.sub(' +',' ', text)                         #remove multiple whitespace\n",
    "  text = re.sub(r'^[ ]|[ ]$','', text)                  # Tahap-9: spasi di awal dan akhir kalimat\n",
    "\n",
    "  # text = re.sub('\\b[a-zA-Z0-9]{3}\\b','',text)\n",
    "  text = unicodedata.normalize('NFKD', text).encode('ascii', 'ignore').decode('utf-8', 'ignore') # Remove non-ascii character\n",
    "  word_tokens = word_tokenize(text) # Word tokenize\n",
    "  \n",
    "\n",
    "  # Define Indonesian stopwords removal\n",
    "  stop_words = stopwords.words('indonesian')  # NLTK Indonesian stopwords\n",
    "  clean_words = [word for word in word_tokens if word not in stop_words] # stopwords removal\n",
    "  clean_words = ' '.join(clean_words)\n",
    "  return clean_words"
   ]
  },
  {
   "cell_type": "code",
   "execution_count": 4,
   "metadata": {},
   "outputs": [
    {
     "data": {
      "text/html": [
       "<div>\n",
       "<style scoped>\n",
       "    .dataframe tbody tr th:only-of-type {\n",
       "        vertical-align: middle;\n",
       "    }\n",
       "\n",
       "    .dataframe tbody tr th {\n",
       "        vertical-align: top;\n",
       "    }\n",
       "\n",
       "    .dataframe thead th {\n",
       "        text-align: right;\n",
       "    }\n",
       "</style>\n",
       "<table border=\"1\" class=\"dataframe\">\n",
       "  <thead>\n",
       "    <tr style=\"text-align: right;\">\n",
       "      <th></th>\n",
       "      <th>content</th>\n",
       "      <th>cleaned_content</th>\n",
       "    </tr>\n",
       "  </thead>\n",
       "  <tbody>\n",
       "    <tr>\n",
       "      <th>0</th>\n",
       "      <td>Sangat mengecewakan . Cs sangat lambat Untuk k...</td>\n",
       "      <td>mengecewakan cs lambat kendala aplikasi buruk ...</td>\n",
       "    </tr>\n",
       "    <tr>\n",
       "      <th>1</th>\n",
       "      <td>Sebetulnya bagus untuk mempermudah dan kelanca...</td>\n",
       "      <td>bagus mempermudah kelancaran transaksi sayang ...</td>\n",
       "    </tr>\n",
       "    <tr>\n",
       "      <th>2</th>\n",
       "      <td>Aplikasi ribet. Terlalu Banyak iming iming yg ...</td>\n",
       "      <td>aplikasi ribet iming iming yg menggiurkan ga a...</td>\n",
       "    </tr>\n",
       "    <tr>\n",
       "      <th>3</th>\n",
       "      <td>Selalu menawarkan paylater, setelah di gunakan...</td>\n",
       "      <td>menawarkan paylater coba kali daftar paylater ...</td>\n",
       "    </tr>\n",
       "    <tr>\n",
       "      <th>4</th>\n",
       "      <td>ulasan terbaru yah, saya coba mengganti alamat...</td>\n",
       "      <td>ulasan terbaru yah coba mengganti alamat email...</td>\n",
       "    </tr>\n",
       "  </tbody>\n",
       "</table>\n",
       "</div>"
      ],
      "text/plain": [
       "                                             content  \\\n",
       "0  Sangat mengecewakan . Cs sangat lambat Untuk k...   \n",
       "1  Sebetulnya bagus untuk mempermudah dan kelanca...   \n",
       "2  Aplikasi ribet. Terlalu Banyak iming iming yg ...   \n",
       "3  Selalu menawarkan paylater, setelah di gunakan...   \n",
       "4  ulasan terbaru yah, saya coba mengganti alamat...   \n",
       "\n",
       "                                     cleaned_content  \n",
       "0  mengecewakan cs lambat kendala aplikasi buruk ...  \n",
       "1  bagus mempermudah kelancaran transaksi sayang ...  \n",
       "2  aplikasi ribet iming iming yg menggiurkan ga a...  \n",
       "3  menawarkan paylater coba kali daftar paylater ...  \n",
       "4  ulasan terbaru yah coba mengganti alamat email...  "
      ]
     },
     "execution_count": 4,
     "metadata": {},
     "output_type": "execute_result"
    }
   ],
   "source": [
    "# Apply the text preprocessing function to the 'content' column\n",
    "df['cleaned_content'] = df['content'].apply(text_preprocessing)\n",
    "\n",
    "# Display the first few rows of the cleaned text\n",
    "df[['content', 'cleaned_content']].head()"
   ]
  },
  {
   "cell_type": "code",
   "execution_count": 5,
   "metadata": {},
   "outputs": [],
   "source": [
    "df.to_csv('BankDigital/dataset/Review_BANK_MOBILE_GOOGLE_PLAY_Update21092024_Clean.csv', index=None, header=True)\n",
    "df.to_excel('BankDigital/dataset/Review_BANK_MOBILE_GOOGLE_PLAY_Update21092024_Clean.xlsx', index=None, header=True)"
   ]
  },
  {
   "cell_type": "code",
   "execution_count": null,
   "metadata": {},
   "outputs": [],
   "source": []
  }
 ],
 "metadata": {
  "kernelspec": {
   "display_name": "Python 3",
   "language": "python",
   "name": "python3"
  },
  "language_info": {
   "codemirror_mode": {
    "name": "ipython",
    "version": 3
   },
   "file_extension": ".py",
   "mimetype": "text/x-python",
   "name": "python",
   "nbconvert_exporter": "python",
   "pygments_lexer": "ipython3",
   "version": "3.12.3"
  }
 },
 "nbformat": 4,
 "nbformat_minor": 2
}
